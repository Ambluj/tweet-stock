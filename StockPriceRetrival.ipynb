{
 "cells": [
  {
   "cell_type": "code",
   "execution_count": 2,
   "metadata": {},
   "outputs": [
    {
     "name": "stdout",
     "output_type": "stream",
     "text": [
      "{'Data': {'ID': 2968, 'Symbol': 'AAPL', 'Name': 'Apple Inc.', 'ISIN': 'US0378331005', 'CIK': 320193, 'TradeCount': 23, 'ViewCount': 1761, 'Stock': {'CompanyID': 2968, 'LastPriceDate': '01/14/2021 14:12', 'LastExchangeDate': '01/14/2021 14:12', 'MarketCapitalization': None, 'FrankfurtLastPrice': 0.0, 'LastUpdated': '01/14/2021 14:12', 'Price': None, 'Close': 130.89, 'PreviousClose': 128.8, 'Id': 0}, 'Stream': None, 'LogoPath': '/temp/company/2968\\\\06639f8453084c08b90ca0b810bd1da3.jpg', 'MarketCap': 2269280000000}, 'EventMessage': None}\n",
      "None\n",
      "{'Data': {'ID': 2968, 'Symbol': 'AAPL', 'Name': 'Apple Inc.', 'ISIN': 'US0378331005', 'CIK': 320193, 'TradeCount': 23, 'ViewCount': 1761, 'Stock': {'CompanyID': 2968, 'LastPriceDate': '01/14/2021 14:13', 'LastExchangeDate': '01/14/2021 14:13', 'MarketCapitalization': None, 'FrankfurtLastPrice': 0.0, 'LastUpdated': '01/14/2021 14:13', 'Price': None, 'Close': 130.89, 'PreviousClose': 128.8, 'Id': 0}, 'Stream': None, 'LogoPath': '/temp/company/2968\\\\06639f8453084c08b90ca0b810bd1da3.jpg', 'MarketCap': 2269280000000}, 'EventMessage': None}\n",
      "None\n"
     ]
    },
    {
     "ename": "KeyboardInterrupt",
     "evalue": "",
     "output_type": "error",
     "traceback": [
      "\u001b[0;31m---------------------------------------------------------------------------\u001b[0m",
      "\u001b[0;31mKeyboardInterrupt\u001b[0m                         Traceback (most recent call last)",
      "\u001b[0;32m<ipython-input-2-e1836a6d8131>\u001b[0m in \u001b[0;36m<module>\u001b[0;34m\u001b[0m\n\u001b[1;32m     20\u001b[0m     \u001b[0mprint\u001b[0m\u001b[0;34m(\u001b[0m\u001b[0mstock_json\u001b[0m\u001b[0;34m[\u001b[0m\u001b[0;34m'Data'\u001b[0m\u001b[0;34m]\u001b[0m\u001b[0;34m[\u001b[0m\u001b[0;34m'Stock'\u001b[0m\u001b[0;34m]\u001b[0m\u001b[0;34m[\u001b[0m\u001b[0;34m'Price'\u001b[0m\u001b[0;34m]\u001b[0m\u001b[0;34m)\u001b[0m\u001b[0;34m\u001b[0m\u001b[0;34m\u001b[0m\u001b[0m\n\u001b[1;32m     21\u001b[0m \u001b[0;34m\u001b[0m\u001b[0m\n\u001b[0;32m---> 22\u001b[0;31m     \u001b[0mtime\u001b[0m\u001b[0;34m.\u001b[0m\u001b[0msleep\u001b[0m\u001b[0;34m(\u001b[0m\u001b[0;36m60\u001b[0m\u001b[0;34m)\u001b[0m\u001b[0;34m\u001b[0m\u001b[0;34m\u001b[0m\u001b[0m\n\u001b[0m\u001b[1;32m     23\u001b[0m \u001b[0;34m\u001b[0m\u001b[0m\n\u001b[1;32m     24\u001b[0m \u001b[0;34m\u001b[0m\u001b[0m\n",
      "\u001b[0;31mKeyboardInterrupt\u001b[0m: "
     ]
    }
   ],
   "source": [
    "import http.client\n",
    "import json\n",
    "import time as time\n",
    "\n",
    "while True:\n",
    "    conn = http.client.HTTPSConnection(\"myallies-breaking-news-v1.p.rapidapi.com\")\n",
    "\n",
    "    headers = {\n",
    "        'x-rapidapi-key': \"xxxxxxxxxxxxxxxxxxxxxxxx\",\n",
    "        'x-rapidapi-host': \"myallies-breaking-news-v1.p.rapidapi.com\"\n",
    "        }\n",
    "\n",
    "    conn.request(\"GET\", \"/GetCompanyDetailsBySymbol?symbol=aapl\", headers=headers)\n",
    "\n",
    "    res = conn.getresponse()\n",
    "    data = res.read()\n",
    "\n",
    "    stock_json = json.loads(data.decode('utf8'))\n",
    "    print(stock_json['Data']['Stock']['Price']) #Shows the current price (unfortunately doesn't work while the market is closed)\n",
    "    \n",
    "    time.sleep(60)\n",
    "    \n",
    "\n"
   ]
  },
  {
   "cell_type": "code",
   "execution_count": null,
   "metadata": {},
   "outputs": [],
   "source": []
  }
 ],
 "metadata": {
  "kernelspec": {
   "display_name": "Python 3",
   "language": "python",
   "name": "python3"
  },
  "language_info": {
   "codemirror_mode": {
    "name": "ipython",
    "version": 3
   },
   "file_extension": ".py",
   "mimetype": "text/x-python",
   "name": "python",
   "nbconvert_exporter": "python",
   "pygments_lexer": "ipython3",
   "version": "3.8.5"
  }
 },
 "nbformat": 4,
 "nbformat_minor": 4
}
